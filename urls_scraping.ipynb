{
 "cells": [
  {
   "cell_type": "code",
   "execution_count": 36,
   "id": "c1db1cf0-fd3a-4524-99e8-de671bbb7286",
   "metadata": {},
   "outputs": [
    {
     "name": "stderr",
     "output_type": "stream",
     "text": [
      "Waiting...: 100%|█████████████████████████████████████████████████████████████████████| 60/60 [01:00<00:00,  1.01s/sec]\n"
     ]
    },
    {
     "name": "stdout",
     "output_type": "stream",
     "text": [
      "['https://www.reddit.com/r/europe/comments/1gwa6nz/greece_has_decreased_almost_50_of_its_debt_to_gdp/', 'https://www.reddit.com/r/GreatBritishMemes/comments/1gw8zxd/clarkson_the_government_dont_get_any_money_when_i/', 'https://www.reddit.com/r/formula1/comments/1gwflrm/lewis_hamilton_says_he_doesnt_feel_like_he_needs/', 'https://www.reddit.com/r/2007scape/comments/1gwinl8/leagues_reveal_utility_relics/', 'https://www.reddit.com/r/worldnews/comments/1gwb8ok/ukraines_military_says_russia_launched/', 'https://www.reddit.com/r/memes/comments/1gwaw24/every_time/', 'https://www.reddit.com/r/ContagiousLaughter/comments/1gwhqoh/she_learns_his_gamer_tag/', 'https://www.reddit.com/r/SatisfactoryGame/comments/1gwlcoq/well_deserved/', 'https://www.reddit.com/r/HonkaiStarRail/comments/1gwjfxv/trailblazer_but_every_time_shehe_gets_a_new_path/', 'https://www.reddit.com/r/delhi/comments/1gwd62i/swiggy_instamart_ruined_me/', 'https://www.reddit.com/r/LivestreamFail/comments/1gwizma/tectones_exgirlfriend_pinkchyu_accuses_him_of_sa/', 'https://www.reddit.com/r/stalker/comments/1gwd3st/psa_about_alife/', 'https://www.reddit.com/r/Aquariums/comments/1gw7d35/anyone_know_what_kind_of_fish_this_is/', 'https://www.reddit.com/r/blursedimages/comments/1gwgdo8/blursed_moral_lesson/', 'https://www.reddit.com/r/Millennials/comments/1gwbzwh/did_you_also_quit_posting_anything_about_yourself/', 'https://www.reddit.com/r/NoStupidQuestions/comments/1gwfqew/is_it_bad_that_i_think_my_girlfriend_is_dumb/', 'https://www.reddit.com/r/confession/comments/1gw7j09/my_mom_caught_my_dad_with_a_16yo_and_covered_it_up/', 'https://www.reddit.com/r/Genshin_Impact_Leaks/comments/1gwf1bn/c0r1_mavuika_team_showcase/', 'https://www.reddit.com/r/Damnthatsinteresting/comments/1gw8uta/carnotaurus_performs_mating_dance_and_gets/', 'https://www.reddit.com/r/Genshin_Impact_Leaks/comments/1gwfqd7/bosses_now_auto_respawn_5_seconds_are_claiming/', 'https://www.reddit.com/r/cats/comments/1gw9q0o/i_think_something_is_wrong_with_my_cat/', 'https://www.reddit.com/r/anime_titties/comments/1gweq6s/icc_issues_arrest_warrant_for_israeli_premier/', 'https://www.reddit.com/r/bi_irl/comments/1gwgd1q/bi_irl/', 'https://www.reddit.com/r/Grimdank/comments/1gwd3eb/join_it_they_said_itll_be_fun_they_said/', 'https://www.reddit.com/r/memes/comments/1gwbnhz/sony_has_held_the_patent_since_2009_and_have/', 'https://www.reddit.com/r/MildlyBadDrivers/comments/1gwdfin/the_road_fury_resulted_in_an_incident/', 'https://www.reddit.com/r/johnoliver/comments/1gw39sw/from_2016_and_still_true/', 'https://www.reddit.com/r/Michigan/comments/1gwchan/recovery_of_uncounted_mi_ballots_leads_many/']\n",
      "28 posts urls were collected\n"
     ]
    }
   ],
   "source": [
    "from selenium import webdriver\n",
    "from selenium.webdriver.common.keys import Keys\n",
    "from selenium.webdriver.chrome.options import Options\n",
    "from selenium.webdriver.common.by import By\n",
    "import time\n",
    "from glob import glob \n",
    "import pickle\n",
    "\n",
    "all_posts_files=glob('posts_urls/*.pkl')\n",
    "all_previous_posts=[]\n",
    "for file_path in all_posts_files : \n",
    "    with open(file_path,'rb') as f: \n",
    "        all_previous_posts.extend(pickle.load(f))\n",
    "        \n",
    "chrome_options = Options()\n",
    "chrome_options.add_argument(\"--incognito\")  # تمكين وضع التصفح الخفي\n",
    "\n",
    "chrome_options.add_experimental_option('detach', True)\n",
    "\n",
    "# إعداد Selenium WebDriver\n",
    "driver = webdriver.Chrome(options=chrome_options)\n",
    "url='https://www.reddit.com/r/popular/'\n",
    "driver.get(url)\n",
    "from tqdm import tqdm\n",
    "\n",
    "# Total sleep time in seconds\n",
    "total_time = 60  # 5 minutes\n",
    "interval = 1  # Update progress every 1 second\n",
    "\n",
    "# Create a progress bar\n",
    "for _ in tqdm(range(total_time // interval), desc=\"Waiting...\", unit=\"sec\"):\n",
    "    time.sleep(interval)\n",
    "posts=driver.find_elements(By.CLASS_NAME,'absolute.inset-0')\n",
    "posts_urls=[]\n",
    "for post in posts: \n",
    "    try: \n",
    "        href=post.get_attribute('href')\n",
    "        \n",
    "        if href is not None and href not in all_previous_posts : \n",
    "            posts_urls.append(href) \n",
    "            \n",
    "    except: \n",
    "        print(f'error getting href for post {posts.index(post)}')\n",
    "\n",
    "print(posts_urls)\n",
    "print(len(posts_urls),'posts urls were collected')"
   ]
  },
  {
   "cell_type": "code",
   "execution_count": 37,
   "id": "98ae56f9-5de9-4051-b535-10170b12af54",
   "metadata": {},
   "outputs": [
    {
     "name": "stdout",
     "output_type": "stream",
     "text": [
      "28 posts urls were collected\n"
     ]
    }
   ],
   "source": [
    "print(len(posts_urls),'posts urls were collected')"
   ]
  },
  {
   "cell_type": "code",
   "execution_count": 38,
   "id": "9b91f1a6-d299-4f77-85c8-b51c8dd1c1f0",
   "metadata": {},
   "outputs": [],
   "source": [
    "import pickle \n",
    "with open('posts_urls/4.pkl','wb') as f:\n",
    "    pickle.dump(posts_urls,f)\n",
    "\n",
    "with open('posts_urls/4.pkl','rb') as f:\n",
    "    loaded_posts_urls=pickle.load(f)"
   ]
  },
  {
   "cell_type": "code",
   "execution_count": 39,
   "id": "eb140eb9-91d6-4432-bfc9-57e8d9a38b32",
   "metadata": {},
   "outputs": [
    {
     "data": {
      "text/plain": [
       "['https://www.reddit.com/r/europe/comments/1gwa6nz/greece_has_decreased_almost_50_of_its_debt_to_gdp/',\n",
       " 'https://www.reddit.com/r/GreatBritishMemes/comments/1gw8zxd/clarkson_the_government_dont_get_any_money_when_i/',\n",
       " 'https://www.reddit.com/r/formula1/comments/1gwflrm/lewis_hamilton_says_he_doesnt_feel_like_he_needs/',\n",
       " 'https://www.reddit.com/r/2007scape/comments/1gwinl8/leagues_reveal_utility_relics/',\n",
       " 'https://www.reddit.com/r/worldnews/comments/1gwb8ok/ukraines_military_says_russia_launched/',\n",
       " 'https://www.reddit.com/r/memes/comments/1gwaw24/every_time/',\n",
       " 'https://www.reddit.com/r/ContagiousLaughter/comments/1gwhqoh/she_learns_his_gamer_tag/',\n",
       " 'https://www.reddit.com/r/SatisfactoryGame/comments/1gwlcoq/well_deserved/',\n",
       " 'https://www.reddit.com/r/HonkaiStarRail/comments/1gwjfxv/trailblazer_but_every_time_shehe_gets_a_new_path/',\n",
       " 'https://www.reddit.com/r/delhi/comments/1gwd62i/swiggy_instamart_ruined_me/',\n",
       " 'https://www.reddit.com/r/LivestreamFail/comments/1gwizma/tectones_exgirlfriend_pinkchyu_accuses_him_of_sa/',\n",
       " 'https://www.reddit.com/r/stalker/comments/1gwd3st/psa_about_alife/',\n",
       " 'https://www.reddit.com/r/Aquariums/comments/1gw7d35/anyone_know_what_kind_of_fish_this_is/',\n",
       " 'https://www.reddit.com/r/blursedimages/comments/1gwgdo8/blursed_moral_lesson/',\n",
       " 'https://www.reddit.com/r/Millennials/comments/1gwbzwh/did_you_also_quit_posting_anything_about_yourself/',\n",
       " 'https://www.reddit.com/r/NoStupidQuestions/comments/1gwfqew/is_it_bad_that_i_think_my_girlfriend_is_dumb/',\n",
       " 'https://www.reddit.com/r/confession/comments/1gw7j09/my_mom_caught_my_dad_with_a_16yo_and_covered_it_up/',\n",
       " 'https://www.reddit.com/r/Genshin_Impact_Leaks/comments/1gwf1bn/c0r1_mavuika_team_showcase/',\n",
       " 'https://www.reddit.com/r/Damnthatsinteresting/comments/1gw8uta/carnotaurus_performs_mating_dance_and_gets/',\n",
       " 'https://www.reddit.com/r/Genshin_Impact_Leaks/comments/1gwfqd7/bosses_now_auto_respawn_5_seconds_are_claiming/',\n",
       " 'https://www.reddit.com/r/cats/comments/1gw9q0o/i_think_something_is_wrong_with_my_cat/',\n",
       " 'https://www.reddit.com/r/anime_titties/comments/1gweq6s/icc_issues_arrest_warrant_for_israeli_premier/',\n",
       " 'https://www.reddit.com/r/bi_irl/comments/1gwgd1q/bi_irl/',\n",
       " 'https://www.reddit.com/r/Grimdank/comments/1gwd3eb/join_it_they_said_itll_be_fun_they_said/',\n",
       " 'https://www.reddit.com/r/memes/comments/1gwbnhz/sony_has_held_the_patent_since_2009_and_have/',\n",
       " 'https://www.reddit.com/r/MildlyBadDrivers/comments/1gwdfin/the_road_fury_resulted_in_an_incident/',\n",
       " 'https://www.reddit.com/r/johnoliver/comments/1gw39sw/from_2016_and_still_true/',\n",
       " 'https://www.reddit.com/r/Michigan/comments/1gwchan/recovery_of_uncounted_mi_ballots_leads_many/']"
      ]
     },
     "execution_count": 39,
     "metadata": {},
     "output_type": "execute_result"
    }
   ],
   "source": [
    "loaded_posts_urls"
   ]
  },
  {
   "cell_type": "code",
   "execution_count": null,
   "id": "57c459cd-20d4-40b7-aab0-f826384abdc1",
   "metadata": {},
   "outputs": [],
   "source": []
  }
 ],
 "metadata": {
  "kernelspec": {
   "display_name": "Python 3 (ipykernel)",
   "language": "python",
   "name": "python3"
  },
  "language_info": {
   "codemirror_mode": {
    "name": "ipython",
    "version": 3
   },
   "file_extension": ".py",
   "mimetype": "text/x-python",
   "name": "python",
   "nbconvert_exporter": "python",
   "pygments_lexer": "ipython3",
   "version": "3.9.0"
  }
 },
 "nbformat": 4,
 "nbformat_minor": 5
}
